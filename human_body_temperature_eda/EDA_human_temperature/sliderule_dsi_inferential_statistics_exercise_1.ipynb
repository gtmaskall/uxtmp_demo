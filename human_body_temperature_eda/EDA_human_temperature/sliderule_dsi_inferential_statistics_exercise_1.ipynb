{
 "cells": [
  {
   "cell_type": "markdown",
   "metadata": {},
   "source": [
    "# What is the True Normal Human Body Temperature? \n",
    "\n",
    "#### Background\n",
    "\n",
    "The mean normal body temperature was held to be 37$^{\\circ}$C or 98.6$^{\\circ}$F for more than 120 years since it was first conceptualized and reported by Carl Wunderlich in a famous 1868 book. But, is this value statistically correct?"
   ]
  },
  {
   "cell_type": "markdown",
   "metadata": {},
   "source": [
    "<h3>Exercises</h3>\n",
    "\n",
    "<p>In this exercise, you will analyze a dataset of human body temperatures and employ the concepts of hypothesis testing, confidence intervals, and statistical significance.</p>\n",
    "\n",
    "<p>Answer the following questions <b>in this notebook below and submit to your Github account</b>.</p> \n",
    "\n",
    "<ol>\n",
    "<li>  Is the distribution of body temperatures normal? \n",
    "    <ul>\n",
    "    <li> Although this is not a requirement for the Central Limit Theorem to hold (read the introduction on Wikipedia's page about the CLT carefully: https://en.wikipedia.org/wiki/Central_limit_theorem), it gives us some peace of mind that the population may also be normally distributed if we assume that this sample is representative of the population.\n",
    "    <li> Think about the way you're going to check for the normality of the distribution. Graphical methods are usually used first, but there are also other ways: https://en.wikipedia.org/wiki/Normality_test\n",
    "    </ul>\n",
    "<li>  Is the sample size large? Are the observations independent?\n",
    "    <ul>\n",
    "    <li> Remember that this is a condition for the Central Limit Theorem, and hence the statistical tests we are using, to apply.\n",
    "    </ul>\n",
    "<li>  Is the true population mean really 98.6 degrees F?\n",
    "    <ul>\n",
    "    <li> First, try a bootstrap hypothesis test.\n",
    "    <li> Now, let's try frequentist statistical testing. Would you use a one-sample or two-sample test? Why?\n",
    "    <li> In this situation, is it appropriate to use the $t$ or $z$ statistic? \n",
    "    <li> Now try using the other test. How is the result be different? Why?\n",
    "    </ul>\n",
    "<li>  Draw a small sample of size 10 from the data and repeat both frequentist tests. \n",
    "    <ul>\n",
    "    <li> Which one is the correct one to use? \n",
    "    <li> What do you notice? What does this tell you about the difference in application of the $t$ and $z$ statistic?\n",
    "    </ul>\n",
    "<li>  At what temperature should we consider someone's temperature to be \"abnormal\"?\n",
    "    <ul>\n",
    "    <li> As in the previous example, try calculating everything using the boostrap approach, as well as the frequentist approach.\n",
    "    <li> Start by computing the margin of error and confidence interval. When calculating the confidence interval, keep in mind that you should use the appropriate formula for one draw, and not N draws.\n",
    "    </ul>\n",
    "<li>  Is there a significant difference between males and females in normal temperature?\n",
    "    <ul>\n",
    "    <li> What testing approach did you use and why?\n",
    "    <li> Write a story with your conclusion in the context of the original problem.\n",
    "    </ul>\n",
    "</ol>\n",
    "\n",
    "You can include written notes in notebook cells using Markdown: \n",
    "   - In the control panel at the top, choose Cell > Cell Type > Markdown\n",
    "   - Markdown syntax: http://nestacms.com/docs/creating-content/markdown-cheat-sheet\n",
    "\n",
    "#### Resources\n",
    "\n",
    "+ Information and data sources: http://www.amstat.org/publications/jse/datasets/normtemp.txt, http://www.amstat.org/publications/jse/jse_data_archive.htm\n",
    "+ Markdown syntax: http://nestacms.com/docs/creating-content/markdown-cheat-sheet\n",
    "\n",
    "****"
   ]
  },
  {
   "cell_type": "code",
   "execution_count": 1,
   "metadata": {},
   "outputs": [],
   "source": [
    "import pandas as pd\n",
    "\n",
    "df = pd.read_csv('data/human_body_temperature.csv')"
   ]
  },
  {
   "cell_type": "code",
   "execution_count": 2,
   "metadata": {},
   "outputs": [],
   "source": [
    "# Your work here."
   ]
  },
  {
   "cell_type": "code",
   "execution_count": 3,
   "metadata": {},
   "outputs": [],
   "source": [
    "import matplotlib.pyplot as plt\n",
    "import numpy as np\n",
    "from scipy.stats import norm\n",
    "import scipy.stats as sstats\n",
    "import statsmodels.api as sm\n",
    "import statsmodels.stats.weightstats as smsw"
   ]
  },
  {
   "cell_type": "markdown",
   "metadata": {},
   "source": [
    "# 1. Is the distribution of body temperatures normal?"
   ]
  },
  {
   "cell_type": "code",
   "execution_count": 4,
   "metadata": {},
   "outputs": [
    {
     "data": {
      "text/html": [
       "<div>\n",
       "<style scoped>\n",
       "    .dataframe tbody tr th:only-of-type {\n",
       "        vertical-align: middle;\n",
       "    }\n",
       "\n",
       "    .dataframe tbody tr th {\n",
       "        vertical-align: top;\n",
       "    }\n",
       "\n",
       "    .dataframe thead th {\n",
       "        text-align: right;\n",
       "    }\n",
       "</style>\n",
       "<table border=\"1\" class=\"dataframe\">\n",
       "  <thead>\n",
       "    <tr style=\"text-align: right;\">\n",
       "      <th></th>\n",
       "      <th>temperature</th>\n",
       "      <th>gender</th>\n",
       "      <th>heart_rate</th>\n",
       "    </tr>\n",
       "  </thead>\n",
       "  <tbody>\n",
       "    <tr>\n",
       "      <th>0</th>\n",
       "      <td>99.3</td>\n",
       "      <td>F</td>\n",
       "      <td>68.0</td>\n",
       "    </tr>\n",
       "    <tr>\n",
       "      <th>1</th>\n",
       "      <td>98.4</td>\n",
       "      <td>F</td>\n",
       "      <td>81.0</td>\n",
       "    </tr>\n",
       "    <tr>\n",
       "      <th>2</th>\n",
       "      <td>97.8</td>\n",
       "      <td>M</td>\n",
       "      <td>73.0</td>\n",
       "    </tr>\n",
       "    <tr>\n",
       "      <th>3</th>\n",
       "      <td>99.2</td>\n",
       "      <td>F</td>\n",
       "      <td>66.0</td>\n",
       "    </tr>\n",
       "    <tr>\n",
       "      <th>4</th>\n",
       "      <td>98.0</td>\n",
       "      <td>F</td>\n",
       "      <td>73.0</td>\n",
       "    </tr>\n",
       "  </tbody>\n",
       "</table>\n",
       "</div>"
      ],
      "text/plain": [
       "   temperature gender  heart_rate\n",
       "0         99.3      F        68.0\n",
       "1         98.4      F        81.0\n",
       "2         97.8      M        73.0\n",
       "3         99.2      F        66.0\n",
       "4         98.0      F        73.0"
      ]
     },
     "execution_count": 4,
     "metadata": {},
     "output_type": "execute_result"
    }
   ],
   "source": [
    "df.head()"
   ]
  },
  {
   "cell_type": "markdown",
   "metadata": {},
   "source": [
    "As a first approach, we can simply plot the histogram of the data and compare to the normal distribution derived using the sample mean and standard deviation, thus:"
   ]
  },
  {
   "cell_type": "code",
   "execution_count": 5,
   "metadata": {},
   "outputs": [],
   "source": [
    "all_mean = np.mean(df.temperature)\n",
    "all_sd = np.std(df.temperature) #population sd"
   ]
  },
  {
   "cell_type": "code",
   "execution_count": 6,
   "metadata": {},
   "outputs": [],
   "source": [
    "from statistics import pstdev, stdev\n",
    "pop_sd = pstdev(df.temperature)\n",
    "samp_sd = stdev(df.temperature)"
   ]
  },
  {
   "cell_type": "code",
   "execution_count": 7,
   "metadata": {},
   "outputs": [
    {
     "data": {
      "text/plain": [
       "(0.7303577789050377, 0.730357778905038, 0.7331831580389456)"
      ]
     },
     "execution_count": 7,
     "metadata": {},
     "output_type": "execute_result"
    }
   ],
   "source": [
    "all_sd, pop_sd, samp_sd"
   ]
  },
  {
   "cell_type": "code",
   "execution_count": 8,
   "metadata": {},
   "outputs": [
    {
     "data": {
      "text/plain": [
       "0.7331831580389456"
      ]
     },
     "execution_count": 8,
     "metadata": {},
     "output_type": "execute_result"
    }
   ],
   "source": [
    "# standard error is sample sd / sqrt(N) for N draws!\n",
    "np.sqrt(np.sum((df.temperature-all_mean)**2)/129)"
   ]
  },
  {
   "cell_type": "code",
   "execution_count": 9,
   "metadata": {},
   "outputs": [
    {
     "data": {
      "image/png": "[encoded data removed]",
      "text/plain": [
       "<Figure size 432x288 with 1 Axes>"
      ]
     },
     "metadata": {},
     "output_type": "display_data"
    }
   ],
   "source": [
    "df.temperature.hist(bins = 15, density = True)\n",
    "x = np.arange(96, 101, 0.1)\n",
    "y = norm.pdf(x, all_mean, all_sd)\n",
    "_ = plt.plot(x, y, 'red')\n",
    "_ = plt.xlabel('Body temperatures (degF)')\n",
    "_ = plt.ylabel('density')"
   ]
  },
  {
   "cell_type": "markdown",
   "metadata": {},
   "source": [
    "Although the histogram looks a little lumpy, it's potentially a reasonable fit with the normal distribution. It may be that if we acquired more data the gaps would fill in."
   ]
  },
  {
   "cell_type": "markdown",
   "metadata": {},
   "source": [
    "## ECDF"
   ]
  },
  {
   "cell_type": "markdown",
   "metadata": {},
   "source": [
    "We can also view the ECDF of the distribution(s) as introduced in the DataCamp tutorial."
   ]
  },
  {
   "cell_type": "code",
   "execution_count": 10,
   "metadata": {},
   "outputs": [],
   "source": [
    "def ecdf(data):\n",
    "    return np.sort(data), np.arange(1, len(data) + 1) / len(data)"
   ]
  },
  {
   "cell_type": "code",
   "execution_count": 11,
   "metadata": {},
   "outputs": [],
   "source": [
    "x_temp_sample, y_temp_sample = ecdf(df.temperature.values)"
   ]
  },
  {
   "cell_type": "code",
   "execution_count": 12,
   "metadata": {},
   "outputs": [],
   "source": [
    "all_temp_theoretical = np.random.normal(all_mean, all_sd, 1000)\n",
    "x_all_theor, y_all_theor = ecdf(all_temp_theoretical)"
   ]
  },
  {
   "cell_type": "code",
   "execution_count": 13,
   "metadata": {},
   "outputs": [
    {
     "data": {
      "image/png": "[encoded data removed]",
      "text/plain": [
       "<Figure size 432x288 with 1 Axes>"
      ]
     },
     "metadata": {},
     "output_type": "display_data"
    }
   ],
   "source": [
    "_ = plt.plot(x_temp_sample, y_temp_sample, color = 'blue', linestyle = 'none', marker = '.', alpha = 0.2)\n",
    "_ = plt.plot(x_all_theor, y_all_theor, color = 'blue', linestyle = '-')\n",
    "_ = plt.xlabel('Body temperature (deg F)')\n",
    "_ = plt.ylabel('ECDF')"
   ]
  },
  {
   "cell_type": "markdown",
   "metadata": {},
   "source": [
    "This actually shows the data do look quite normal. There's some deviation above 99 degrees F."
   ]
  },
  {
   "cell_type": "markdown",
   "metadata": {},
   "source": [
    "Another way is we can look at a QQ plot - the expected quantiles versus the sample quantiles. We do this below with the standardized line added for reference. There is again a pretty good agreement. The values do, indeed, seem to be normally distributed. "
   ]
  },
  {
   "cell_type": "code",
   "execution_count": 14,
   "metadata": {},
   "outputs": [
    {
     "data": {
      "image/png": "[encoded data removed]",
      "text/plain": [
       "<Figure size 432x288 with 1 Axes>"
      ]
     },
     "metadata": {},
     "output_type": "display_data"
    }
   ],
   "source": [
    "_ = sm.qqplot(df.temperature.values, line='s')\n",
    "#plt.show()"
   ]
  },
  {
   "cell_type": "markdown",
   "metadata": {},
   "source": [
    "# 2. Is the sample size large? Are the observations independent?"
   ]
  },
  {
   "cell_type": "code",
   "execution_count": 15,
   "metadata": {},
   "outputs": [
    {
     "data": {
      "text/html": [
       "<div>\n",
       "<style scoped>\n",
       "    .dataframe tbody tr th:only-of-type {\n",
       "        vertical-align: middle;\n",
       "    }\n",
       "\n",
       "    .dataframe tbody tr th {\n",
       "        vertical-align: top;\n",
       "    }\n",
       "\n",
       "    .dataframe thead th {\n",
       "        text-align: right;\n",
       "    }\n",
       "</style>\n",
       "<table border=\"1\" class=\"dataframe\">\n",
       "  <thead>\n",
       "    <tr style=\"text-align: right;\">\n",
       "      <th></th>\n",
       "      <th>temperature</th>\n",
       "      <th>heart_rate</th>\n",
       "    </tr>\n",
       "  </thead>\n",
       "  <tbody>\n",
       "    <tr>\n",
       "      <th>count</th>\n",
       "      <td>130.000000</td>\n",
       "      <td>130.000000</td>\n",
       "    </tr>\n",
       "    <tr>\n",
       "      <th>mean</th>\n",
       "      <td>98.249231</td>\n",
       "      <td>73.761538</td>\n",
       "    </tr>\n",
       "    <tr>\n",
       "      <th>std</th>\n",
       "      <td>0.733183</td>\n",
       "      <td>7.062077</td>\n",
       "    </tr>\n",
       "    <tr>\n",
       "      <th>min</th>\n",
       "      <td>96.300000</td>\n",
       "      <td>57.000000</td>\n",
       "    </tr>\n",
       "    <tr>\n",
       "      <th>25%</th>\n",
       "      <td>97.800000</td>\n",
       "      <td>69.000000</td>\n",
       "    </tr>\n",
       "    <tr>\n",
       "      <th>50%</th>\n",
       "      <td>98.300000</td>\n",
       "      <td>74.000000</td>\n",
       "    </tr>\n",
       "    <tr>\n",
       "      <th>75%</th>\n",
       "      <td>98.700000</td>\n",
       "      <td>79.000000</td>\n",
       "    </tr>\n",
       "    <tr>\n",
       "      <th>max</th>\n",
       "      <td>100.800000</td>\n",
       "      <td>89.000000</td>\n",
       "    </tr>\n",
       "  </tbody>\n",
       "</table>\n",
       "</div>"
      ],
      "text/plain": [
       "       temperature  heart_rate\n",
       "count   130.000000  130.000000\n",
       "mean     98.249231   73.761538\n",
       "std       0.733183    7.062077\n",
       "min      96.300000   57.000000\n",
       "25%      97.800000   69.000000\n",
       "50%      98.300000   74.000000\n",
       "75%      98.700000   79.000000\n",
       "max     100.800000   89.000000"
      ]
     },
     "execution_count": 15,
     "metadata": {},
     "output_type": "execute_result"
    }
   ],
   "source": [
    "df.describe()"
   ]
  },
  {
   "cell_type": "code",
   "execution_count": 16,
   "metadata": {},
   "outputs": [
    {
     "data": {
      "text/plain": [
       "M    65\n",
       "F    65\n",
       "Name: gender, dtype: int64"
      ]
     },
     "execution_count": 16,
     "metadata": {},
     "output_type": "execute_result"
    }
   ],
   "source": [
    "df.gender.value_counts()"
   ]
  },
  {
   "cell_type": "markdown",
   "metadata": {},
   "source": [
    "There are 130 samples, which is a reasonable size. We might reasonably assume the observations are independent, although the nature of how they were gathered is not specified. It is reasonable to assume that measuring one person's temperature does not affect the next temperature, although knowing that the original measurements took some time because of the thermometer technology and that a person's temperature varies throughout the day we might wisely consider a potential source of lack of independence arising from some people being measured at the same time of day. Without knowing anything further about the original data, we can safely take 130 to be much less than 10% of the population size. However, I believe the original dataset was much larger, a couple of thousand or thereabouts from memory. On one hand, this would still be much less than 10% of the population. On the other hand, this may turn out to be a significant fraction of the local population. We don't know from what general population either this current 130 sample size was taken or the original sample size was taken. But independence seems reasonable."
   ]
  },
  {
   "cell_type": "markdown",
   "metadata": {},
   "source": [
    "# 3. Is the true population mean really 98.6 degrees F? "
   ]
  },
  {
   "cell_type": "markdown",
   "metadata": {},
   "source": [
    "## Bootstrap hypothesis test"
   ]
  },
  {
   "cell_type": "code",
   "execution_count": 17,
   "metadata": {},
   "outputs": [
    {
     "name": "stdout",
     "output_type": "stream",
     "text": [
      "[98.12461538 98.37384615]\n"
     ]
    }
   ],
   "source": [
    "np.random.seed(42)\n",
    "# bootstrap replicate function\n",
    "def bs_replicate_1d(data, func, **kwargs):\n",
    "    \"\"\"Generate bootstrap replicate of 1D data\"\"\"\n",
    "    bs_sample = np.random.choice(data, len(data))\n",
    "    return func(bs_sample, **kwargs)\n",
    "\n",
    "N_rep = 10000\n",
    "bs_replicates = np.empty(N_rep)\n",
    "for i in np.arange(N_rep):\n",
    "    bs_replicates[i] = bs_replicate_1d(df.temperature.values, np.mean)\n",
    "\n",
    "# Does the 95% CI of the bootstrap replicates contain 98.6?    \n",
    "conf_int = np.percentile(bs_replicates, [2.5, 97.5])\n",
    "print(conf_int)"
   ]
  },
  {
   "cell_type": "markdown",
   "metadata": {},
   "source": [
    "The confidence interval does not contain 98.6, therefore we reject the null hypothesis that the mean is 98.6."
   ]
  },
  {
   "cell_type": "markdown",
   "metadata": {},
   "source": [
    "## Frequentist hypothesis test"
   ]
  },
  {
   "cell_type": "markdown",
   "metadata": {},
   "source": [
    "This will be a one-sample test as we are testing a sample against a single value. Note, this section is not actually covered in the curriculum as it currently stands!"
   ]
  },
  {
   "cell_type": "markdown",
   "metadata": {},
   "source": [
    "### t or z statistic?"
   ]
  },
  {
   "cell_type": "markdown",
   "metadata": {},
   "source": [
    "The sample size of 130 and reasonable symmetry of the distribution tells us we can comfortably use a z-statistic.\n",
    "\n",
    "To be clear here, the null hypothesis is that the mean temperature is 98.6, and we want to perform a two-sided test."
   ]
  },
  {
   "cell_type": "markdown",
   "metadata": {},
   "source": [
    "#### z-test"
   ]
  },
  {
   "cell_type": "code",
   "execution_count": 18,
   "metadata": {},
   "outputs": [
    {
     "data": {
      "text/plain": [
       "(-5.4548232923645195, 4.9021570141012155e-08)"
      ]
     },
     "execution_count": 18,
     "metadata": {},
     "output_type": "execute_result"
    }
   ],
   "source": [
    "# calculate the z-statistic and the p-value\n",
    "smsw.ztest(df.temperature.values, value=98.6)"
   ]
  },
  {
   "cell_type": "markdown",
   "metadata": {},
   "source": [
    "Note, we can calculate the z-statistic manually thus\n",
    "$z = \\frac{\\bar{x} - \\mu}{\\frac{s}{\\sqrt{N-1}}}$, where $\\bar{x}$ is the sample mean, $s$ the sample standard deviation, $\\mu$ the mean (under the null hypothesis), and $N$ the sample size."
   ]
  },
  {
   "cell_type": "code",
   "execution_count": 19,
   "metadata": {},
   "outputs": [
    {
     "name": "stdout",
     "output_type": "stream",
     "text": [
      "-5.454823292364079\n"
     ]
    }
   ],
   "source": [
    "z = (all_mean - 98.6)/(all_sd/np.sqrt(129))\n",
    "print(z)"
   ]
  },
  {
   "cell_type": "markdown",
   "metadata": {},
   "source": [
    "Testing the null hypothesis now means calculating the probability of getting a value \"at least as extreme\" as this if the null hypothesis were true. This is a two-sided test and so we are interested in calculating the probability of getting a value less than -5.45 and greater than 5.45. Due to the symmetry of the normal distribution, we can calculate one and multiple by two."
   ]
  },
  {
   "cell_type": "code",
   "execution_count": 20,
   "metadata": {},
   "outputs": [
    {
     "name": "stdout",
     "output_type": "stream",
     "text": [
      "4.90215701411338e-08\n"
     ]
    }
   ],
   "source": [
    "p_z = 2 * sstats.norm.cdf(z)\n",
    "print(p_z)"
   ]
  },
  {
   "cell_type": "markdown",
   "metadata": {},
   "source": [
    "This p-value is extremely small. It is unlikely to have occurred by chance if the null hypothesis were true and so we reject the null hypothesis."
   ]
  },
  {
   "cell_type": "markdown",
   "metadata": {},
   "source": [
    "#### t-test"
   ]
  },
  {
   "cell_type": "code",
   "execution_count": 21,
   "metadata": {},
   "outputs": [
    {
     "data": {
      "text/plain": [
       "Ttest_1sampResult(statistic=-5.4548232923645195, pvalue=2.4106320415561276e-07)"
      ]
     },
     "execution_count": 21,
     "metadata": {},
     "output_type": "execute_result"
    }
   ],
   "source": [
    "# calculate the t-statistic and the p-value\n",
    "sstats.ttest_1samp(df.temperature.values, 98.6)"
   ]
  },
  {
   "cell_type": "code",
   "execution_count": 22,
   "metadata": {},
   "outputs": [
    {
     "name": "stdout",
     "output_type": "stream",
     "text": [
      "2.4106320415609943e-07\n"
     ]
    }
   ],
   "source": [
    "p_t = 2 * sstats.t.cdf(z, df=129)\n",
    "print(p_t)"
   ]
  },
  {
   "cell_type": "markdown",
   "metadata": {},
   "source": [
    "This p-value is also extremely small but, noticeably, somewhat larger than the p-value under the z-test. This reflects the fact that the t-distribution is wider than the normal; there is a higher probability of seeing more extreme values."
   ]
  },
  {
   "cell_type": "markdown",
   "metadata": {},
   "source": [
    "# 4. Draw a small sample of size 10 from the data and repeat both frequentist tests."
   ]
  },
  {
   "cell_type": "code",
   "execution_count": 23,
   "metadata": {},
   "outputs": [],
   "source": [
    "np.random.seed(100)\n",
    "subsamp_10 = np.random.choice(df.temperature.values, 10, replace = False)"
   ]
  },
  {
   "cell_type": "code",
   "execution_count": 24,
   "metadata": {},
   "outputs": [
    {
     "data": {
      "text/plain": [
       "(-3.1957418477478403, 0.0013947183948314953)"
      ]
     },
     "execution_count": 24,
     "metadata": {},
     "output_type": "execute_result"
    }
   ],
   "source": [
    "# calculate the z-statistic and the p-value\n",
    "smsw.ztest(subsamp_10, value=98.6)"
   ]
  },
  {
   "cell_type": "code",
   "execution_count": 25,
   "metadata": {},
   "outputs": [
    {
     "data": {
      "text/plain": [
       "Ttest_1sampResult(statistic=-3.1957418477478403, pvalue=0.010905578505191494)"
      ]
     },
     "execution_count": 25,
     "metadata": {},
     "output_type": "execute_result"
    }
   ],
   "source": [
    "# calculate the t-statistic and the p-value\n",
    "sstats.ttest_1samp(subsamp_10, 98.6)"
   ]
  },
  {
   "cell_type": "markdown",
   "metadata": {},
   "source": [
    "Although the p-value from the t-test is still \"significant\" at the 95% level, we can easily see how it is approaching being insufficiently significant to reject the null hypothesis. This does not make the t-test wrong, far from it. The t-test is intended for small sample sizes where more extreme values are more likely just by random chance. If the p-value were a little larger we would certainly fail to reject the null hypothesis. Again, this does not make it wrong. It reflects our increased uncertainty, or lack of confidence, in our test statistic due to the small sample size. We would be more likely to (wisely) say our sample does not provide sufficient evidence to reject the null hypothesis."
   ]
  },
  {
   "cell_type": "markdown",
   "metadata": {},
   "source": [
    "# 5. At what temperature should we consider someone's temperature to be \"abnormal\"?"
   ]
  },
  {
   "cell_type": "markdown",
   "metadata": {},
   "source": [
    "We have a single sample (of size 130). What might different samples look like? This is, perhaps, reminiscent of the Sheffield rainfall data bootstrap example from DataCamp. Let's pinch that code to visualize 50 bootstrap samples with an ECDF:"
   ]
  },
  {
   "cell_type": "code",
   "execution_count": 26,
   "metadata": {},
   "outputs": [
    {
     "data": {
      "image/png": "[encoded data removed]",
      "text/plain": [
       "<Figure size 432x288 with 1 Axes>"
      ]
     },
     "metadata": {},
     "output_type": "display_data"
    }
   ],
   "source": [
    "for _ in range(50):\n",
    "    # Generate bootstrap sample: bs_sample\n",
    "    bs_sample = np.random.choice(df.temperature.values, size=len(df.temperature.values))\n",
    "\n",
    "    # Compute and plot ECDF from bootstrap sample\n",
    "    x, y = ecdf(bs_sample)\n",
    "    _ = plt.plot(x, y, marker='.', linestyle='none',\n",
    "                 color='gray', alpha=0.1)\n",
    "\n",
    "# Compute and plot ECDF from original data\n",
    "x, y = ecdf(df.temperature.values)\n",
    "_ = plt.plot(x, y, marker='.')\n",
    "\n",
    "# Make margins and label axes\n",
    "plt.margins(0.02)\n",
    "_ = plt.xlabel('Body temperature (deg F)')\n",
    "_ = plt.ylabel('ECDF')\n"
   ]
  },
  {
   "cell_type": "markdown",
   "metadata": {},
   "source": [
    "## Bootstrap approach"
   ]
  },
  {
   "cell_type": "markdown",
   "metadata": {},
   "source": [
    "We'll define abnormal as something more extreme than 99% of the population. The question then is \"what is that acceptable/normal range?\"\n",
    "\n",
    "What does this mean? Well if we had enough data we could just calculate the .5 and 99.5 percentiles empirically by finding the value below which are .5% of the samples and the value above which are .5% of the samples. But we have just the one. We can perform 10,000 bootstrap experiments and calculate the required percentiles for each and then find the expected value for the percentiles (the mean)."
   ]
  },
  {
   "cell_type": "code",
   "execution_count": 27,
   "metadata": {},
   "outputs": [],
   "source": [
    "N_rep=10000\n",
    "bs_replicates = np.empty([N_rep, 2])\n",
    "for i in np.arange(N_rep):\n",
    "    bs_replicates[i, :] = bs_replicate_1d(df.temperature.values, np.percentile, q=[0.5, 99.5])"
   ]
  },
  {
   "cell_type": "code",
   "execution_count": 28,
   "metadata": {},
   "outputs": [
    {
     "data": {
      "text/plain": [
       "array([ 96.4631234, 100.2181207])"
      ]
     },
     "execution_count": 28,
     "metadata": {},
     "output_type": "execute_result"
    }
   ],
   "source": [
    "bs_replicates.mean(axis=0)"
   ]
  },
  {
   "cell_type": "markdown",
   "metadata": {},
   "source": [
    "## Frequentist method"
   ]
  },
  {
   "cell_type": "code",
   "execution_count": 29,
   "metadata": {},
   "outputs": [
    {
     "data": {
      "text/plain": [
       "(96.35835140464833, 100.14011013381322)"
      ]
     },
     "execution_count": 29,
     "metadata": {},
     "output_type": "execute_result"
    }
   ],
   "source": [
    "# critical value = 2.579 for z statistic for 99% CI\n",
    "# multiply by sample standard deviation (se for 1 draw)\n",
    "# 99% CI:\n",
    "all_mean - 2.579 * samp_sd, all_mean + 2.579 * samp_sd"
   ]
  },
  {
   "cell_type": "markdown",
   "metadata": {},
   "source": [
    "## Abnormal temperature"
   ]
  },
  {
   "cell_type": "markdown",
   "metadata": {},
   "source": [
    "The bootstrap approach suggests an abnormal temperature would be below 96.46 or above 100.22, and the frequentist approach suggests 96.36 and 100.14, respectively."
   ]
  },
  {
   "cell_type": "markdown",
   "metadata": {},
   "source": [
    "# 6. Is there a significant difference between males and females in normal temperature?"
   ]
  },
  {
   "cell_type": "code",
   "execution_count": 30,
   "metadata": {},
   "outputs": [],
   "source": [
    "temp_males = df['temperature'][df['gender'] == 'M'].values\n",
    "temp_females = df['temperature'][df['gender'] == 'F'].values"
   ]
  },
  {
   "cell_type": "markdown",
   "metadata": {},
   "source": [
    "## EDA"
   ]
  },
  {
   "cell_type": "markdown",
   "metadata": {},
   "source": [
    "The first step should be to perform some EDA. What do the separate distributions look like? We can use our ECDF defined above to compare them."
   ]
  },
  {
   "cell_type": "code",
   "execution_count": 31,
   "metadata": {},
   "outputs": [],
   "source": [
    "male_temp_val, male_temp_ind = ecdf(temp_males)\n",
    "female_temp_val, female_temp_ind = ecdf(temp_females)"
   ]
  },
  {
   "cell_type": "code",
   "execution_count": 32,
   "metadata": {},
   "outputs": [
    {
     "data": {
      "image/png": "[encoded data removed]",
      "text/plain": [
       "<Figure size 432x288 with 1 Axes>"
      ]
     },
     "metadata": {},
     "output_type": "display_data"
    }
   ],
   "source": [
    "_ = plt.plot(male_temp_val, male_temp_ind, color = 'blue', linestyle = 'none', marker = '.', alpha = 0.2)\n",
    "_ = plt.plot(female_temp_val, female_temp_ind, color = 'red', linestyle = 'none', marker = '.', alpha = 0.2)\n",
    "_ = plt.xlabel('Body temperature (deg F)')\n",
    "_ = plt.ylabel('ECDF')\n",
    "_ = plt.legend(['male', 'female'], loc='upper left')"
   ]
  },
  {
   "cell_type": "markdown",
   "metadata": {},
   "source": [
    "It certainly does appear that the male and female temperature distributions are quite different."
   ]
  },
  {
   "cell_type": "markdown",
   "metadata": {},
   "source": [
    "## Bootstrap approach"
   ]
  },
  {
   "cell_type": "markdown",
   "metadata": {},
   "source": [
    "Recall from the DataCamp unit on bootstrap hypothesis testing, we:\n",
    "\n",
    "1. Clearly state the null hypothesis\n",
    "2. Define our test statistic\n",
    "3. Generate many sets of simulated data assuming the null hypothesis is true\n",
    "4. Compute the test statistic for each simulated data set\n",
    "5. Calculate the p-value as the fraction of the simulate data sets for which the test statistic is at least as extreme as for the real data."
   ]
  },
  {
   "cell_type": "markdown",
   "metadata": {},
   "source": [
    "So our null hypothesis is that there is no difference between the normal body temperature for males and females. Our test statistic will be the difference in the two means."
   ]
  },
  {
   "cell_type": "markdown",
   "metadata": {},
   "source": [
    "This is a two-sample test just like the test about the two frogs, A and B. Actually I have an objection to the DataCamp exercise. The stated question was whether the means of the frogs' forces were different, but the test was a one-sided test!"
   ]
  },
  {
   "cell_type": "code",
   "execution_count": 33,
   "metadata": {},
   "outputs": [],
   "source": [
    "male_temp_shifted = temp_males - np.mean(temp_males) + all_mean\n",
    "female_temp_shifted = temp_females - np.mean(temp_females) + all_mean"
   ]
  },
  {
   "cell_type": "code",
   "execution_count": 34,
   "metadata": {},
   "outputs": [],
   "source": [
    "# write a function to generate the replicates\n",
    "def draw_bs_reps(data, func, size=1):\n",
    "    return np.array([bs_replicate_1d(data, func) for _ in range(size)])"
   ]
  },
  {
   "cell_type": "code",
   "execution_count": 35,
   "metadata": {},
   "outputs": [],
   "source": [
    "np.random.seed(100)\n",
    "bs_replicates_male = draw_bs_reps(male_temp_shifted, np.mean, 10000)\n",
    "bs_replicates_female = draw_bs_reps(female_temp_shifted, np.mean, 10000)"
   ]
  },
  {
   "cell_type": "code",
   "execution_count": 36,
   "metadata": {},
   "outputs": [
    {
     "name": "stdout",
     "output_type": "stream",
     "text": [
      "-0.2892307692307696\n"
     ]
    }
   ],
   "source": [
    "bs_replicates_diff = bs_replicates_male - bs_replicates_female\n",
    "empirical_mean_diff = np.mean(temp_males) - np.mean(temp_females)\n",
    "print(empirical_mean_diff)"
   ]
  },
  {
   "cell_type": "markdown",
   "metadata": {},
   "source": [
    "So, empirically, we have a difference of (minus) 0.289 between the sample means of the males and females. Now, we have to be careful here. We \"know\" from our EDA above, that females seemed to have a higher body temperature than males. It seems natural to be testing that as the alternative hypothesis. In other words, we might go ahead and calculate the bootstrap probability of getting a value for the female mean at least 2.89 higher than the male mean. However, this is not what the question asks. We have no prior reason to be thinking that it might be females with the higher temperature. We simply want to know whether males and females have _different_ temperatures.\n",
    "\n",
    "We can illustrate this by considering the histogram of the bootstrapped replicates of differences between the means, as shown below. The means of the bootstrapped sample differences is, as expected, centred around zero because we shifted both samples to have the same mean. If we were truly only interested in the how often females had a higher temperature than males, we would calculate the proportion of the distribution to the left of the solid red line. But our task is to consider whether the body temperatures of males and females is _different_. We have observed a difference of 0.289. We want to calculate how often we see a difference of 0.289. We also see differences of at least 0.289 to the right hand side of the distribution of differences, where males have higher temperatures than females. In other words, we also want to include that region of the distribution. By adding both tails together we can calculate the bootstrapped probability of seeing at least a difference of 0.289 between the male and female means."
   ]
  },
  {
   "cell_type": "code",
   "execution_count": 37,
   "metadata": {},
   "outputs": [
    {
     "data": {
      "image/png": "[encoded data removed]",
      "text/plain": [
       "<Figure size 432x288 with 1 Axes>"
      ]
     },
     "metadata": {},
     "output_type": "display_data"
    }
   ],
   "source": [
    "_ = plt.hist(bs_replicates_diff, bins=30)\n",
    "_ = plt.xlabel('Difference between sample means if populations have equal mean')\n",
    "_ = plt.ylabel('Count')\n",
    "_ = plt.axvline(x=empirical_mean_diff, color='red')\n",
    "_ = plt.axvline(x=-empirical_mean_diff, color='red', linestyle='--')"
   ]
  },
  {
   "cell_type": "code",
   "execution_count": 38,
   "metadata": {},
   "outputs": [
    {
     "name": "stdout",
     "output_type": "stream",
     "text": [
      "0.0229\n"
     ]
    }
   ],
   "source": [
    "pvalue = np.sum(np.abs(bs_replicates_diff) >= np.abs(empirical_mean_diff)) / len(bs_replicates_diff)\n",
    "print(pvalue)"
   ]
  },
  {
   "cell_type": "markdown",
   "metadata": {},
   "source": [
    "## Frequentist approach - t-test"
   ]
  },
  {
   "cell_type": "markdown",
   "metadata": {},
   "source": [
    "Perform t-test on the two independent populations of male and female. Assume equal variance. Take 5% as the significance level."
   ]
  },
  {
   "cell_type": "code",
   "execution_count": 39,
   "metadata": {},
   "outputs": [
    {
     "data": {
      "text/plain": [
       "Ttest_indResult(statistic=-2.2854345381656103, pvalue=0.02393188312239561)"
      ]
     },
     "execution_count": 39,
     "metadata": {},
     "output_type": "execute_result"
    }
   ],
   "source": [
    "sstats.ttest_ind(temp_males, temp_females)"
   ]
  },
  {
   "cell_type": "markdown",
   "metadata": {},
   "source": [
    "## Conclusion"
   ]
  },
  {
   "cell_type": "markdown",
   "metadata": {},
   "source": [
    "We conclude that there is a significant difference between male and female body temperatures (at the 5% significance level). Both the bootstrap and frequentist methods give a p-value of around 2.3 to 2.4%. For such a p-value, however, we would be wise to do further research before contemplating publishing a new scientific finding."
   ]
  }
 ],
 "metadata": {
  "kernelspec": {
   "display_name": "Python 3",
   "language": "python",
   "name": "python3"
  },
  "language_info": {
   "codemirror_mode": {
    "name": "ipython",
    "version": 3
   },
   "file_extension": ".py",
   "mimetype": "text/x-python",
   "name": "python",
   "nbconvert_exporter": "python",
   "pygments_lexer": "ipython3",
   "version": "3.6.5"
  }
 },
 "nbformat": 4,
 "nbformat_minor": 1
}
